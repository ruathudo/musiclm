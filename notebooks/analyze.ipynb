{
 "cells": [
  {
   "cell_type": "code",
   "execution_count": 1,
   "id": "49fd20c5",
   "metadata": {},
   "outputs": [],
   "source": [
    "import os\n",
    "import pandas as pd\n",
    "from music21 import converter, note, chord, stream\n",
    "from pandas_parallel_apply import DataFrameParallel, SeriesParallel\n",
    "import warnings\n",
    "warnings.filterwarnings('ignore')"
   ]
  },
  {
   "cell_type": "code",
   "execution_count": 2,
   "id": "66ef518b",
   "metadata": {},
   "outputs": [],
   "source": [
    "DATA_PATH = 'data/MidiCaps/'"
   ]
  },
  {
   "cell_type": "code",
   "execution_count": 3,
   "id": "52747362",
   "metadata": {},
   "outputs": [],
   "source": [
    "df = pd.read_json(DATA_PATH + 'train3.json', lines=True)"
   ]
  },
  {
   "cell_type": "code",
   "execution_count": 4,
   "id": "8aa4dde6",
   "metadata": {},
   "outputs": [
    {
     "data": {
      "text/html": [
       "<div>\n",
       "<style scoped>\n",
       "    .dataframe tbody tr th:only-of-type {\n",
       "        vertical-align: middle;\n",
       "    }\n",
       "\n",
       "    .dataframe tbody tr th {\n",
       "        vertical-align: top;\n",
       "    }\n",
       "\n",
       "    .dataframe thead th {\n",
       "        text-align: right;\n",
       "    }\n",
       "</style>\n",
       "<table border=\"1\" class=\"dataframe\">\n",
       "  <thead>\n",
       "    <tr style=\"text-align: right;\">\n",
       "      <th></th>\n",
       "      <th>location</th>\n",
       "      <th>caption</th>\n",
       "      <th>genre</th>\n",
       "      <th>genre_prob</th>\n",
       "      <th>mood</th>\n",
       "      <th>mood_prob</th>\n",
       "      <th>key</th>\n",
       "      <th>time_signature</th>\n",
       "      <th>tempo</th>\n",
       "      <th>tempo_word</th>\n",
       "      <th>...</th>\n",
       "      <th>instrument_summary</th>\n",
       "      <th>instrument_numbers_sorted</th>\n",
       "      <th>all_chords</th>\n",
       "      <th>all_chords_timestamps</th>\n",
       "      <th>test_set</th>\n",
       "      <th>num_tracks</th>\n",
       "      <th>num_time_signatures</th>\n",
       "      <th>num_instruments</th>\n",
       "      <th>instruments</th>\n",
       "      <th>initial_silence</th>\n",
       "    </tr>\n",
       "  </thead>\n",
       "  <tbody>\n",
       "    <tr>\n",
       "      <th>0</th>\n",
       "      <td>lmd_full/1/16b9a230fb007c0009feee532c3c4686.mid</td>\n",
       "      <td>This energetic electronic and classical compos...</td>\n",
       "      <td>[electronic, classical]</td>\n",
       "      <td>[0.21480000000000002, 0.1806]</td>\n",
       "      <td>[energetic, film, melodic, happy, dark]</td>\n",
       "      <td>[0.10790000000000001, 0.1062, 0.09580000000000...</td>\n",
       "      <td>C major</td>\n",
       "      <td>4/4</td>\n",
       "      <td>120</td>\n",
       "      <td>Moderate tempo</td>\n",
       "      <td>...</td>\n",
       "      <td>[]</td>\n",
       "      <td>[]</td>\n",
       "      <td>[C, G, C, C7, Dm, C, G, C, C7, Bbmaj7, C, G7, ...</td>\n",
       "      <td>[0.464399092, 4.086712018, 7.430385487, 8.9164...</td>\n",
       "      <td>False</td>\n",
       "      <td>1</td>\n",
       "      <td>1</td>\n",
       "      <td>1</td>\n",
       "      <td>[None]</td>\n",
       "      <td>1</td>\n",
       "    </tr>\n",
       "    <tr>\n",
       "      <th>1</th>\n",
       "      <td>lmd_full/1/17655598958db48a34cd882f81402568.mid</td>\n",
       "      <td>A short electronic ambient song featuring a pi...</td>\n",
       "      <td>[electronic, ambient]</td>\n",
       "      <td>[0.30310000000000004, 0.2369]</td>\n",
       "      <td>[film, energetic, melodic, epic, dark]</td>\n",
       "      <td>[0.11620000000000001, 0.11080000000000001, 0.1...</td>\n",
       "      <td>E major</td>\n",
       "      <td>4/4</td>\n",
       "      <td>170</td>\n",
       "      <td>Presto</td>\n",
       "      <td>...</td>\n",
       "      <td>[Piano]</td>\n",
       "      <td>[0]</td>\n",
       "      <td>[B, Emaj7, C#m7, B7, A, B, Emaj7, C#m7, B7, A,...</td>\n",
       "      <td>[0.464399092, 1.30031746, 2.972154195, 3.71519...</td>\n",
       "      <td>False</td>\n",
       "      <td>1</td>\n",
       "      <td>1</td>\n",
       "      <td>1</td>\n",
       "      <td>[Piano]</td>\n",
       "      <td>0</td>\n",
       "    </tr>\n",
       "    <tr>\n",
       "      <th>2</th>\n",
       "      <td>lmd_full/1/180b3a492c1c1a46d005e762d62b9aa4.mid</td>\n",
       "      <td>A cheerful pop song with a touch of electronic...</td>\n",
       "      <td>[pop, electronic]</td>\n",
       "      <td>[0.4238, 0.2548]</td>\n",
       "      <td>[happy, love, melodic, christmas, motivational]</td>\n",
       "      <td>[0.1521, 0.09870000000000001, 0.0935, 0.0737, ...</td>\n",
       "      <td>D major</td>\n",
       "      <td>4/4</td>\n",
       "      <td>96</td>\n",
       "      <td>Moderate tempo</td>\n",
       "      <td>...</td>\n",
       "      <td>[Piano, Drums]</td>\n",
       "      <td>[0, 0, 0, 128, 0]</td>\n",
       "      <td>[D, A7, D, Em, A, D, Em7, A7, D, Em7, A7, D, G...</td>\n",
       "      <td>[0.464399092, 7.616145124, 9.938140589, 12.353...</td>\n",
       "      <td>False</td>\n",
       "      <td>5</td>\n",
       "      <td>1</td>\n",
       "      <td>5</td>\n",
       "      <td>[bass, Piano, guitar, Percussion, strings]</td>\n",
       "      <td>3</td>\n",
       "    </tr>\n",
       "    <tr>\n",
       "      <th>3</th>\n",
       "      <td>lmd_full/1/1f94f64f72af98fd92f206293b281f6f.mid</td>\n",
       "      <td>A classical piece that could be part of a film...</td>\n",
       "      <td>[classical, soundtrack]</td>\n",
       "      <td>[0.6144000000000001, 0.225]</td>\n",
       "      <td>[film, relaxing, emotional, documentary, drama]</td>\n",
       "      <td>[0.16640000000000002, 0.1048, 0.0655, 0.0621, ...</td>\n",
       "      <td>C# major</td>\n",
       "      <td>4/4</td>\n",
       "      <td>74</td>\n",
       "      <td>Andante</td>\n",
       "      <td>...</td>\n",
       "      <td>[Recorder]</td>\n",
       "      <td>[74]</td>\n",
       "      <td>[C#, Fm, Ab, C#, Fm, Bbm, C, Bbm, B, Bb, Ab, F...</td>\n",
       "      <td>[0.464399092, 1.764716553, 9.752380952, 11.609...</td>\n",
       "      <td>False</td>\n",
       "      <td>2</td>\n",
       "      <td>1</td>\n",
       "      <td>1</td>\n",
       "      <td>[Recorder]</td>\n",
       "      <td>0</td>\n",
       "    </tr>\n",
       "    <tr>\n",
       "      <th>4</th>\n",
       "      <td>lmd_full/1/112139e8b17be9cae1bd14df56e52f14.mid</td>\n",
       "      <td>A short fragment of energetic electronic and c...</td>\n",
       "      <td>[electronic, classical]</td>\n",
       "      <td>[0.32370000000000004, 0.30610000000000004]</td>\n",
       "      <td>[energetic, film, dark, epic, action]</td>\n",
       "      <td>[0.1081, 0.1009, 0.0961, 0.0916, 0.0896]</td>\n",
       "      <td>F major</td>\n",
       "      <td>4/4</td>\n",
       "      <td>136</td>\n",
       "      <td>Allegro</td>\n",
       "      <td>...</td>\n",
       "      <td>[Piano]</td>\n",
       "      <td>[0, 0]</td>\n",
       "      <td>[A, F/A]</td>\n",
       "      <td>[0.464399092, 1.671836734]</td>\n",
       "      <td>False</td>\n",
       "      <td>2</td>\n",
       "      <td>1</td>\n",
       "      <td>2</td>\n",
       "      <td>[intro bass (MIDI), Piano]</td>\n",
       "      <td>0</td>\n",
       "    </tr>\n",
       "  </tbody>\n",
       "</table>\n",
       "<p>5 rows × 24 columns</p>\n",
       "</div>"
      ],
      "text/plain": [
       "                                          location  \\\n",
       "0  lmd_full/1/16b9a230fb007c0009feee532c3c4686.mid   \n",
       "1  lmd_full/1/17655598958db48a34cd882f81402568.mid   \n",
       "2  lmd_full/1/180b3a492c1c1a46d005e762d62b9aa4.mid   \n",
       "3  lmd_full/1/1f94f64f72af98fd92f206293b281f6f.mid   \n",
       "4  lmd_full/1/112139e8b17be9cae1bd14df56e52f14.mid   \n",
       "\n",
       "                                             caption                    genre  \\\n",
       "0  This energetic electronic and classical compos...  [electronic, classical]   \n",
       "1  A short electronic ambient song featuring a pi...    [electronic, ambient]   \n",
       "2  A cheerful pop song with a touch of electronic...        [pop, electronic]   \n",
       "3  A classical piece that could be part of a film...  [classical, soundtrack]   \n",
       "4  A short fragment of energetic electronic and c...  [electronic, classical]   \n",
       "\n",
       "                                   genre_prob  \\\n",
       "0               [0.21480000000000002, 0.1806]   \n",
       "1               [0.30310000000000004, 0.2369]   \n",
       "2                            [0.4238, 0.2548]   \n",
       "3                 [0.6144000000000001, 0.225]   \n",
       "4  [0.32370000000000004, 0.30610000000000004]   \n",
       "\n",
       "                                              mood  \\\n",
       "0          [energetic, film, melodic, happy, dark]   \n",
       "1           [film, energetic, melodic, epic, dark]   \n",
       "2  [happy, love, melodic, christmas, motivational]   \n",
       "3  [film, relaxing, emotional, documentary, drama]   \n",
       "4            [energetic, film, dark, epic, action]   \n",
       "\n",
       "                                           mood_prob       key time_signature  \\\n",
       "0  [0.10790000000000001, 0.1062, 0.09580000000000...   C major            4/4   \n",
       "1  [0.11620000000000001, 0.11080000000000001, 0.1...   E major            4/4   \n",
       "2  [0.1521, 0.09870000000000001, 0.0935, 0.0737, ...   D major            4/4   \n",
       "3  [0.16640000000000002, 0.1048, 0.0655, 0.0621, ...  C# major            4/4   \n",
       "4           [0.1081, 0.1009, 0.0961, 0.0916, 0.0896]   F major            4/4   \n",
       "\n",
       "   tempo      tempo_word  ...  instrument_summary instrument_numbers_sorted  \\\n",
       "0    120  Moderate tempo  ...                  []                        []   \n",
       "1    170          Presto  ...             [Piano]                       [0]   \n",
       "2     96  Moderate tempo  ...      [Piano, Drums]         [0, 0, 0, 128, 0]   \n",
       "3     74         Andante  ...          [Recorder]                      [74]   \n",
       "4    136         Allegro  ...             [Piano]                    [0, 0]   \n",
       "\n",
       "                                          all_chords  \\\n",
       "0  [C, G, C, C7, Dm, C, G, C, C7, Bbmaj7, C, G7, ...   \n",
       "1  [B, Emaj7, C#m7, B7, A, B, Emaj7, C#m7, B7, A,...   \n",
       "2  [D, A7, D, Em, A, D, Em7, A7, D, Em7, A7, D, G...   \n",
       "3  [C#, Fm, Ab, C#, Fm, Bbm, C, Bbm, B, Bb, Ab, F...   \n",
       "4                                           [A, F/A]   \n",
       "\n",
       "                               all_chords_timestamps test_set num_tracks  \\\n",
       "0  [0.464399092, 4.086712018, 7.430385487, 8.9164...    False          1   \n",
       "1  [0.464399092, 1.30031746, 2.972154195, 3.71519...    False          1   \n",
       "2  [0.464399092, 7.616145124, 9.938140589, 12.353...    False          5   \n",
       "3  [0.464399092, 1.764716553, 9.752380952, 11.609...    False          2   \n",
       "4                         [0.464399092, 1.671836734]    False          2   \n",
       "\n",
       "  num_time_signatures num_instruments  \\\n",
       "0                   1               1   \n",
       "1                   1               1   \n",
       "2                   1               5   \n",
       "3                   1               1   \n",
       "4                   1               2   \n",
       "\n",
       "                                  instruments  initial_silence  \n",
       "0                                      [None]                1  \n",
       "1                                     [Piano]                0  \n",
       "2  [bass, Piano, guitar, Percussion, strings]                3  \n",
       "3                                  [Recorder]                0  \n",
       "4                  [intro bass (MIDI), Piano]                0  \n",
       "\n",
       "[5 rows x 24 columns]"
      ]
     },
     "execution_count": 4,
     "metadata": {},
     "output_type": "execute_result"
    }
   ],
   "source": [
    "df.head()"
   ]
  },
  {
   "cell_type": "code",
   "execution_count": 5,
   "id": "81042153",
   "metadata": {},
   "outputs": [
    {
     "name": "stdout",
     "output_type": "stream",
     "text": [
      "<class 'pandas.core.frame.DataFrame'>\n",
      "RangeIndex: 40593 entries, 0 to 40592\n",
      "Data columns (total 24 columns):\n",
      " #   Column                     Non-Null Count  Dtype \n",
      "---  ------                     --------------  ----- \n",
      " 0   location                   40593 non-null  object\n",
      " 1   caption                    40593 non-null  object\n",
      " 2   genre                      40593 non-null  object\n",
      " 3   genre_prob                 40593 non-null  object\n",
      " 4   mood                       40593 non-null  object\n",
      " 5   mood_prob                  40593 non-null  object\n",
      " 6   key                        40593 non-null  object\n",
      " 7   time_signature             40593 non-null  object\n",
      " 8   tempo                      40593 non-null  int64 \n",
      " 9   tempo_word                 40593 non-null  object\n",
      " 10  duration                   40593 non-null  int64 \n",
      " 11  duration_word              40593 non-null  object\n",
      " 12  chord_summary              40593 non-null  object\n",
      " 13  chord_summary_occurence    40593 non-null  int64 \n",
      " 14  instrument_summary         40593 non-null  object\n",
      " 15  instrument_numbers_sorted  40593 non-null  object\n",
      " 16  all_chords                 40593 non-null  object\n",
      " 17  all_chords_timestamps      40593 non-null  object\n",
      " 18  test_set                   40593 non-null  bool  \n",
      " 19  num_tracks                 40593 non-null  int64 \n",
      " 20  num_time_signatures        40593 non-null  int64 \n",
      " 21  num_instruments            40593 non-null  int64 \n",
      " 22  instruments                40593 non-null  object\n",
      " 23  initial_silence            40593 non-null  int64 \n",
      "dtypes: bool(1), int64(7), object(16)\n",
      "memory usage: 7.2+ MB\n"
     ]
    }
   ],
   "source": [
    "df.info()"
   ]
  },
  {
   "cell_type": "code",
   "execution_count": 24,
   "id": "a175fbd4",
   "metadata": {},
   "outputs": [
    {
     "data": {
      "text/plain": [
       "37014"
      ]
     },
     "execution_count": 24,
     "metadata": {},
     "output_type": "execute_result"
    }
   ],
   "source": [
    "len(df[df['initial_silence'] < 5])"
   ]
  },
  {
   "cell_type": "code",
   "execution_count": 6,
   "id": "469f3027",
   "metadata": {},
   "outputs": [],
   "source": [
    "\n",
    "\n",
    "\n",
    "def analyze_dataset(df, n_track=4, n_silence=4):\n",
    "    # count number of single time signature\n",
    "    time_signature_filtered = len(df[df['num_time_signatures'] == 1])\n",
    "    track_num_filtered = len(df[df['num_tracks'] < n_track ])\n",
    "    silence_filtered = len(df[df['initial_silence'] < n_silence])\n",
    "\n",
    "    combined_filter = df[(df['num_time_signatures'] == 1) & (df['num_tracks'] < n_track) & (df['initial_silence'] < n_silence)].copy()\n",
    "    # filter empty instrument\n",
    "    inst_filter = combined_filter[combined_filter['instrument_summary'].apply(lambda x: len(x) > 0)]\n",
    "\n",
    "    print(f\"Number of samples with single time signature: {time_signature_filtered}\")\n",
    "    print(f\"Number of samples with track number smaller than {n_track}: {track_num_filtered}\")\n",
    "    print(f\"Number of samples with initial silence notes smaller than {n_silence}: {silence_filtered}\")\n",
    "    print(f\"Number of samples with combined criteria: {len(inst_filter)}\")\n",
    "\n",
    "    # count the number of samples with different track to instruments\n",
    "    track_filter = inst_filter[inst_filter['num_instruments'] > inst_filter['num_tracks']]\n",
    "\n",
    "    print(f\"Number of samples with instruments number less than track: {len(track_filter)}\")\n",
    "    \n",
    "\n",
    "    return track_filter\n",
    "\n",
    "\n",
    "\n",
    "\n",
    "\n",
    "def get_exception_silent_notes(df, n=4):\n",
    "    \"\"\"\n",
    "    Get the exception silent notes from the dataframe.\n",
    "    :param df: DataFrame\n",
    "    :param n: number of silent notes\n",
    "    :return: DataFrame\n",
    "    \"\"\"\n",
    "    df_exp = df[df['initial_silence'] == n].copy()\n",
    "    sample = df_exp.sample(n=1)\n",
    "    return sample['location'].values[0]"
   ]
  },
  {
   "cell_type": "code",
   "execution_count": 7,
   "id": "23d14d66",
   "metadata": {},
   "outputs": [
    {
     "name": "stdout",
     "output_type": "stream",
     "text": [
      "Number of samples with single time signature: 34078\n",
      "Number of samples with track number smaller than 6: 37652\n",
      "Number of samples with initial silence notes smaller than 5: 37014\n",
      "Number of samples with combined criteria: 22387\n",
      "Number of samples with instruments number less than track: 6165\n"
     ]
    }
   ],
   "source": [
    "df_filtered = analyze_dataset(df, n_track=6, n_silence=5)"
   ]
  },
  {
   "cell_type": "code",
   "execution_count": 19,
   "id": "8eeb1620",
   "metadata": {},
   "outputs": [
    {
     "data": {
      "text/plain": [
       "'lmd_full/3/31a91b8f53c670efc2675d7efd3f79f9.mid'"
      ]
     },
     "execution_count": 19,
     "metadata": {},
     "output_type": "execute_result"
    }
   ],
   "source": [
    "get_exception_silent_notes(df, n=5)"
   ]
  },
  {
   "cell_type": "markdown",
   "id": "14d9ee33",
   "metadata": {},
   "source": [
    "Create a filtered dataset:\n",
    "* Max initial silences notes 4\n",
    "* Single time signature\n",
    "* Max number of tracks 4"
   ]
  },
  {
   "cell_type": "code",
   "execution_count": 50,
   "id": "a0d9be04",
   "metadata": {},
   "outputs": [
    {
     "data": {
      "text/plain": [
       "NoneType"
      ]
     },
     "execution_count": 50,
     "metadata": {},
     "output_type": "execute_result"
    }
   ],
   "source": [
    "type(df_filtered.iloc[0].instruments[0])"
   ]
  },
  {
   "cell_type": "code",
   "execution_count": 9,
   "id": "12430cbc",
   "metadata": {},
   "outputs": [
    {
     "data": {
      "text/html": [
       "<div>\n",
       "<style scoped>\n",
       "    .dataframe tbody tr th:only-of-type {\n",
       "        vertical-align: middle;\n",
       "    }\n",
       "\n",
       "    .dataframe tbody tr th {\n",
       "        vertical-align: top;\n",
       "    }\n",
       "\n",
       "    .dataframe thead th {\n",
       "        text-align: right;\n",
       "    }\n",
       "</style>\n",
       "<table border=\"1\" class=\"dataframe\">\n",
       "  <thead>\n",
       "    <tr style=\"text-align: right;\">\n",
       "      <th></th>\n",
       "      <th>location</th>\n",
       "      <th>caption</th>\n",
       "      <th>genre</th>\n",
       "      <th>genre_prob</th>\n",
       "      <th>mood</th>\n",
       "      <th>mood_prob</th>\n",
       "      <th>key</th>\n",
       "      <th>time_signature</th>\n",
       "      <th>tempo</th>\n",
       "      <th>tempo_word</th>\n",
       "      <th>...</th>\n",
       "      <th>instrument_summary</th>\n",
       "      <th>instrument_numbers_sorted</th>\n",
       "      <th>all_chords</th>\n",
       "      <th>all_chords_timestamps</th>\n",
       "      <th>test_set</th>\n",
       "      <th>num_tracks</th>\n",
       "      <th>num_time_signatures</th>\n",
       "      <th>num_instruments</th>\n",
       "      <th>instruments</th>\n",
       "      <th>initial_silence</th>\n",
       "    </tr>\n",
       "  </thead>\n",
       "  <tbody>\n",
       "    <tr>\n",
       "      <th>1702</th>\n",
       "      <td>lmd_full/1/154015512ef6190561dffaebfbf02115.mid</td>\n",
       "      <td>A relaxing classical piece featuring an acoust...</td>\n",
       "      <td>[classical, pop]</td>\n",
       "      <td>[0.4378, 0.155]</td>\n",
       "      <td>[relaxing, meditative, inspiring, happy, love]</td>\n",
       "      <td>[0.157, 0.1189, 0.1187, 0.1134, 0.104000000000...</td>\n",
       "      <td>A minor</td>\n",
       "      <td>3/4</td>\n",
       "      <td>100</td>\n",
       "      <td>Moderate tempo</td>\n",
       "      <td>...</td>\n",
       "      <td>[Acoustic Guitar]</td>\n",
       "      <td>[24, 24]</td>\n",
       "      <td>[Am, Dm, C#m, Gm, Am6, Fm, F7/A, Am7b5, Am, F7...</td>\n",
       "      <td>[0.464399092, 3.529433106, 5.479909297, 6.8731...</td>\n",
       "      <td>False</td>\n",
       "      <td>2</td>\n",
       "      <td>1</td>\n",
       "      <td>3</td>\n",
       "      <td>[Guitar 1, Acoustic Guitar, Guitar 2]</td>\n",
       "      <td>0</td>\n",
       "    </tr>\n",
       "    <tr>\n",
       "      <th>11658</th>\n",
       "      <td>lmd_full/f/f45e3a63581c67c18af0a5fe69dbb1c1.mid</td>\n",
       "      <td>A dark and melodic rock song with electronic e...</td>\n",
       "      <td>[rock, electronic]</td>\n",
       "      <td>[0.27, 0.2247]</td>\n",
       "      <td>[dark, melodic, film, relaxing, epic]</td>\n",
       "      <td>[0.1182, 0.0971, 0.0927, 0.0849, 0.0833]</td>\n",
       "      <td>E minor</td>\n",
       "      <td>4/4</td>\n",
       "      <td>300</td>\n",
       "      <td>Prestissimo</td>\n",
       "      <td>...</td>\n",
       "      <td>[Electric Piano, Piano]</td>\n",
       "      <td>[2, 0, 2, 0, 2, 1]</td>\n",
       "      <td>[E7, Ebmaj7, C, Dmaj7, Ebmaj7, E7, B, E, Em7b5...</td>\n",
       "      <td>[2.507755102, 11.238458049, 11.981496598, 16.2...</td>\n",
       "      <td>False</td>\n",
       "      <td>1</td>\n",
       "      <td>1</td>\n",
       "      <td>2</td>\n",
       "      <td>[Electric Piano, Piano]</td>\n",
       "      <td>2</td>\n",
       "    </tr>\n",
       "    <tr>\n",
       "      <th>18295</th>\n",
       "      <td>lmd_full/7/7689b668f3ab1b1eb34f91e1531a71e9.mid</td>\n",
       "      <td>A short, fast-paced fragment of classical and ...</td>\n",
       "      <td>[classical, electronic]</td>\n",
       "      <td>[0.2204, 0.2069]</td>\n",
       "      <td>[film, dark, melodic, relaxing, emotional]</td>\n",
       "      <td>[0.1203, 0.1124, 0.0889, 0.0834, 0.0751]</td>\n",
       "      <td>C# minor</td>\n",
       "      <td>4/4</td>\n",
       "      <td>140</td>\n",
       "      <td>Fast</td>\n",
       "      <td>...</td>\n",
       "      <td>[Piano]</td>\n",
       "      <td>[0]</td>\n",
       "      <td>[Abm, Ab, F#]</td>\n",
       "      <td>[0.464399092, 2.136235827, 6.780226757]</td>\n",
       "      <td>False</td>\n",
       "      <td>2</td>\n",
       "      <td>1</td>\n",
       "      <td>3</td>\n",
       "      <td>[guitar (MIDI), Acoustic Guitar, Electric Bass]</td>\n",
       "      <td>0</td>\n",
       "    </tr>\n",
       "    <tr>\n",
       "      <th>10599</th>\n",
       "      <td>lmd_full/f/f8335838267d424b577a5241884fa4e1.mid</td>\n",
       "      <td>A relaxing pop song with classical influences,...</td>\n",
       "      <td>[pop, classical]</td>\n",
       "      <td>[0.35550000000000004, 0.26940000000000003]</td>\n",
       "      <td>[relaxing, love, emotional, happy, inspiring]</td>\n",
       "      <td>[0.1506, 0.14100000000000001, 0.12490000000000...</td>\n",
       "      <td>F major</td>\n",
       "      <td>4/4</td>\n",
       "      <td>120</td>\n",
       "      <td>Moderate tempo</td>\n",
       "      <td>...</td>\n",
       "      <td>[Piano, Acoustic Guitar]</td>\n",
       "      <td>[1, 24, 25, 24]</td>\n",
       "      <td>[F, Bb, C, F, Bb, C7, F, Bb, C, F, Bb, C, Bb, ...</td>\n",
       "      <td>[0.464399092, 0.9287981850000001, 1.671836734,...</td>\n",
       "      <td>False</td>\n",
       "      <td>1</td>\n",
       "      <td>1</td>\n",
       "      <td>3</td>\n",
       "      <td>[Acoustic Guitar, Piano, Guantananera]</td>\n",
       "      <td>0</td>\n",
       "    </tr>\n",
       "    <tr>\n",
       "      <th>18125</th>\n",
       "      <td>lmd_full/7/7e1ea09db92d801dd558094eb93907a5.mid</td>\n",
       "      <td>A relaxing electronic ambient song with a synt...</td>\n",
       "      <td>[electronic, ambient]</td>\n",
       "      <td>[0.4449, 0.2639]</td>\n",
       "      <td>[relaxing, space, meditative, dream, dark]</td>\n",
       "      <td>[0.1381, 0.1232, 0.1102, 0.1027, 0.101]</td>\n",
       "      <td>E minor</td>\n",
       "      <td>4/4</td>\n",
       "      <td>120</td>\n",
       "      <td>Moderate tempo</td>\n",
       "      <td>...</td>\n",
       "      <td>[Synth Lead]</td>\n",
       "      <td>[86]</td>\n",
       "      <td>[G/D, Em7, E/B, Gmaj7, G/D, Em, G, G/D, Em7, G...</td>\n",
       "      <td>[0.464399092, 13.374693877, 22.476916099, 23.6...</td>\n",
       "      <td>False</td>\n",
       "      <td>1</td>\n",
       "      <td>1</td>\n",
       "      <td>3</td>\n",
       "      <td>[Track 1, Sampler, Piano]</td>\n",
       "      <td>4</td>\n",
       "    </tr>\n",
       "  </tbody>\n",
       "</table>\n",
       "<p>5 rows × 24 columns</p>\n",
       "</div>"
      ],
      "text/plain": [
       "                                              location  \\\n",
       "1702   lmd_full/1/154015512ef6190561dffaebfbf02115.mid   \n",
       "11658  lmd_full/f/f45e3a63581c67c18af0a5fe69dbb1c1.mid   \n",
       "18295  lmd_full/7/7689b668f3ab1b1eb34f91e1531a71e9.mid   \n",
       "10599  lmd_full/f/f8335838267d424b577a5241884fa4e1.mid   \n",
       "18125  lmd_full/7/7e1ea09db92d801dd558094eb93907a5.mid   \n",
       "\n",
       "                                                 caption  \\\n",
       "1702   A relaxing classical piece featuring an acoust...   \n",
       "11658  A dark and melodic rock song with electronic e...   \n",
       "18295  A short, fast-paced fragment of classical and ...   \n",
       "10599  A relaxing pop song with classical influences,...   \n",
       "18125  A relaxing electronic ambient song with a synt...   \n",
       "\n",
       "                         genre                                  genre_prob  \\\n",
       "1702          [classical, pop]                             [0.4378, 0.155]   \n",
       "11658       [rock, electronic]                              [0.27, 0.2247]   \n",
       "18295  [classical, electronic]                            [0.2204, 0.2069]   \n",
       "10599         [pop, classical]  [0.35550000000000004, 0.26940000000000003]   \n",
       "18125    [electronic, ambient]                            [0.4449, 0.2639]   \n",
       "\n",
       "                                                 mood  \\\n",
       "1702   [relaxing, meditative, inspiring, happy, love]   \n",
       "11658           [dark, melodic, film, relaxing, epic]   \n",
       "18295      [film, dark, melodic, relaxing, emotional]   \n",
       "10599   [relaxing, love, emotional, happy, inspiring]   \n",
       "18125      [relaxing, space, meditative, dream, dark]   \n",
       "\n",
       "                                               mood_prob       key  \\\n",
       "1702   [0.157, 0.1189, 0.1187, 0.1134, 0.104000000000...   A minor   \n",
       "11658           [0.1182, 0.0971, 0.0927, 0.0849, 0.0833]   E minor   \n",
       "18295           [0.1203, 0.1124, 0.0889, 0.0834, 0.0751]  C# minor   \n",
       "10599  [0.1506, 0.14100000000000001, 0.12490000000000...   F major   \n",
       "18125            [0.1381, 0.1232, 0.1102, 0.1027, 0.101]   E minor   \n",
       "\n",
       "      time_signature  tempo      tempo_word  ...        instrument_summary  \\\n",
       "1702             3/4    100  Moderate tempo  ...         [Acoustic Guitar]   \n",
       "11658            4/4    300     Prestissimo  ...   [Electric Piano, Piano]   \n",
       "18295            4/4    140            Fast  ...                   [Piano]   \n",
       "10599            4/4    120  Moderate tempo  ...  [Piano, Acoustic Guitar]   \n",
       "18125            4/4    120  Moderate tempo  ...              [Synth Lead]   \n",
       "\n",
       "      instrument_numbers_sorted  \\\n",
       "1702                   [24, 24]   \n",
       "11658        [2, 0, 2, 0, 2, 1]   \n",
       "18295                       [0]   \n",
       "10599           [1, 24, 25, 24]   \n",
       "18125                      [86]   \n",
       "\n",
       "                                              all_chords  \\\n",
       "1702   [Am, Dm, C#m, Gm, Am6, Fm, F7/A, Am7b5, Am, F7...   \n",
       "11658  [E7, Ebmaj7, C, Dmaj7, Ebmaj7, E7, B, E, Em7b5...   \n",
       "18295                                      [Abm, Ab, F#]   \n",
       "10599  [F, Bb, C, F, Bb, C7, F, Bb, C, F, Bb, C, Bb, ...   \n",
       "18125  [G/D, Em7, E/B, Gmaj7, G/D, Em, G, G/D, Em7, G...   \n",
       "\n",
       "                                   all_chords_timestamps test_set num_tracks  \\\n",
       "1702   [0.464399092, 3.529433106, 5.479909297, 6.8731...    False          2   \n",
       "11658  [2.507755102, 11.238458049, 11.981496598, 16.2...    False          1   \n",
       "18295            [0.464399092, 2.136235827, 6.780226757]    False          2   \n",
       "10599  [0.464399092, 0.9287981850000001, 1.671836734,...    False          1   \n",
       "18125  [0.464399092, 13.374693877, 22.476916099, 23.6...    False          1   \n",
       "\n",
       "      num_time_signatures num_instruments  \\\n",
       "1702                    1               3   \n",
       "11658                   1               2   \n",
       "18295                   1               3   \n",
       "10599                   1               3   \n",
       "18125                   1               3   \n",
       "\n",
       "                                           instruments  initial_silence  \n",
       "1702             [Guitar 1, Acoustic Guitar, Guitar 2]                0  \n",
       "11658                          [Electric Piano, Piano]                2  \n",
       "18295  [guitar (MIDI), Acoustic Guitar, Electric Bass]                0  \n",
       "10599           [Acoustic Guitar, Piano, Guantananera]                0  \n",
       "18125                        [Track 1, Sampler, Piano]                4  \n",
       "\n",
       "[5 rows x 24 columns]"
      ]
     },
     "execution_count": 9,
     "metadata": {},
     "output_type": "execute_result"
    }
   ],
   "source": [
    "df_filtered.sample(5)"
   ]
  },
  {
   "cell_type": "code",
   "execution_count": 91,
   "id": "9103af49",
   "metadata": {},
   "outputs": [
    {
     "name": "stdout",
     "output_type": "stream",
     "text": [
      "<class 'pandas.core.frame.DataFrame'>\n",
      "Index: 16222 entries, 1 to 40587\n",
      "Data columns (total 24 columns):\n",
      " #   Column                     Non-Null Count  Dtype \n",
      "---  ------                     --------------  ----- \n",
      " 0   location                   16222 non-null  object\n",
      " 1   caption                    16222 non-null  object\n",
      " 2   genre                      16222 non-null  object\n",
      " 3   genre_prob                 16222 non-null  object\n",
      " 4   mood                       16222 non-null  object\n",
      " 5   mood_prob                  16222 non-null  object\n",
      " 6   key                        16222 non-null  object\n",
      " 7   time_signature             16222 non-null  object\n",
      " 8   tempo                      16222 non-null  int64 \n",
      " 9   tempo_word                 16222 non-null  object\n",
      " 10  duration                   16222 non-null  int64 \n",
      " 11  duration_word              16222 non-null  object\n",
      " 12  chord_summary              16222 non-null  object\n",
      " 13  chord_summary_occurence    16222 non-null  int64 \n",
      " 14  instrument_summary         16222 non-null  object\n",
      " 15  instrument_numbers_sorted  16222 non-null  object\n",
      " 16  all_chords                 16222 non-null  object\n",
      " 17  all_chords_timestamps      16222 non-null  object\n",
      " 18  test_set                   16222 non-null  bool  \n",
      " 19  num_tracks                 16222 non-null  int64 \n",
      " 20  num_time_signatures        16222 non-null  int64 \n",
      " 21  num_instruments            16222 non-null  int64 \n",
      " 22  instruments                16222 non-null  object\n",
      " 23  initial_silence            16222 non-null  int64 \n",
      "dtypes: bool(1), int64(7), object(16)\n",
      "memory usage: 3.0+ MB\n"
     ]
    }
   ],
   "source": [
    "df_filtered.info()"
   ]
  },
  {
   "cell_type": "code",
   "execution_count": 92,
   "id": "aa67d27c",
   "metadata": {},
   "outputs": [],
   "source": [
    "df_filtered.to_json('data/MidiCaps/train_filtered.json', lines=True, orient='records')"
   ]
  },
  {
   "cell_type": "code",
   "execution_count": null,
   "id": "52b9e331",
   "metadata": {},
   "outputs": [],
   "source": []
  },
  {
   "cell_type": "code",
   "execution_count": null,
   "id": "29c64744",
   "metadata": {},
   "outputs": [
    {
     "data": {
      "text/plain": [
       "<Axes: >"
      ]
     },
     "execution_count": 6,
     "metadata": {},
     "output_type": "execute_result"
    },
    {
     "data": {
      "image/png": "[encoded data removed]",
      "text/plain": [
       "<Figure size 640x480 with 1 Axes>"
      ]
     },
     "metadata": {},
     "output_type": "display_data"
    }
   ],
   "source": [
    "df.num_tracks.hist()"
   ]
  },
  {
   "cell_type": "code",
   "execution_count": 9,
   "metadata": {},
   "outputs": [
    {
     "data": {
      "text/plain": [
       "36685"
      ]
     },
     "execution_count": 9,
     "metadata": {},
     "output_type": "execute_result"
    }
   ],
   "source": [
    "len(df[df.num_tracks < 5])"
   ]
  },
  {
   "cell_type": "code",
   "execution_count": 8,
   "metadata": {},
   "outputs": [
    {
     "data": {
      "text/plain": [
       "<Axes: >"
      ]
     },
     "execution_count": 8,
     "metadata": {},
     "output_type": "execute_result"
    },
    {
     "data": {
      "image/png": "[encoded data removed]",
      "text/plain": [
       "<Figure size 640x480 with 1 Axes>"
      ]
     },
     "metadata": {},
     "output_type": "display_data"
    }
   ],
   "source": [
    "df.num_time_signatures.hist()"
   ]
  },
  {
   "cell_type": "code",
   "execution_count": 13,
   "metadata": {},
   "outputs": [
    {
     "data": {
      "text/plain": [
       "2213"
      ]
     },
     "execution_count": 13,
     "metadata": {},
     "output_type": "execute_result"
    }
   ],
   "source": [
    "len(df[df.num_time_signatures > 1])"
   ]
  },
  {
   "cell_type": "code",
   "execution_count": null,
   "id": "7bbaa125",
   "metadata": {},
   "outputs": [],
   "source": []
  },
  {
   "cell_type": "code",
   "execution_count": null,
   "id": "1fc2071a",
   "metadata": {},
   "outputs": [],
   "source": []
  }
 ],
 "metadata": {
  "kernelspec": {
   "display_name": ".venv",
   "language": "python",
   "name": "python3"
  },
  "language_info": {
   "codemirror_mode": {
    "name": "ipython",
    "version": 3
   },
   "file_extension": ".py",
   "mimetype": "text/x-python",
   "name": "python",
   "nbconvert_exporter": "python",
   "pygments_lexer": "ipython3",
   "version": "3.11.11"
  }
 },
 "nbformat": 4,
 "nbformat_minor": 5
}
